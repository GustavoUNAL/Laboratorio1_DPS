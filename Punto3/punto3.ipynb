{
 "cells": [
  {
   "cell_type": "markdown",
   "metadata": {},
   "source": [
    "<img src=\"https://unal.edu.co/_assets/ca8e1ca9a551c3e3ffc233b30e54ba93/images/escudoUnal.svg\" width=\"800\" height=\"500\">\n",
    "\n",
    "# LABORATORIO 1\n",
    "\n",
    "## Gustavo Arteaga \n",
    "## Universidad Nacional de Colombia - Facultad de minas \n",
    "## Tópicos Azanzados de Procesamiento Digital de Señales\n",
    "### 2024-03-14\n"
   ]
  },
  {
   "cell_type": "markdown",
   "metadata": {},
   "source": [
    "# 3. Procesamiento de “pantalla verde”"
   ]
  },
  {
   "cell_type": "markdown",
   "metadata": {},
   "source": [
    "#### Actividades:\n",
    "\n",
    "##### Por medio de un programa en Matlab, procese una imagen cualquiera tomada contra una pantalla verde de forma que se le cambie el fondo.\n",
    "\n",
    "##### A manera de reto, se propone extrapolar el proceso al procesamiento de pantalla verde usando este video como ejemplo.Para el procesamiento de video, debe automatizarse el proceso de segmentaci´on, ya que dicho proceso se aplica de manera sucesiva a cada una de las im´agenes (frames, fotogramas) que componen la secuencia de la imagen en movimiento.\n"
   ]
  },
  {
   "cell_type": "code",
   "execution_count": 1,
   "metadata": {},
   "outputs": [
    {
     "name": "stdout",
     "output_type": "stream",
     "text": [
      "Imagen guardada con éxito.\n"
     ]
    }
   ],
   "source": [
    "import cv2\n",
    "import numpy as np\n",
    "\n",
    "# Cargar la imagen original y verificar si se cargó correctamente\n",
    "imagen_original = cv2.imread('dino.png')\n",
    "if imagen_original is None:\n",
    "    print(\"Error al cargar la imagen original.\")\n",
    "    exit()\n",
    "\n",
    "# Cargar el nuevo fondo y verificar si se cargó correctamente\n",
    "nuevo_fondo = cv2.imread('minas.jpeg')\n",
    "if nuevo_fondo is None:\n",
    "    print(\"Error al cargar el nuevo fondo.\")\n",
    "    exit()\n",
    "\n",
    "# Redimensionar el nuevo fondo para que coincida con el tamaño de la imagen original, si es necesario\n",
    "nuevo_fondo = cv2.resize(nuevo_fondo, (imagen_original.shape[1], imagen_original.shape[0]))\n",
    "\n",
    "# Convertir la imagen a espacio de color HSV\n",
    "hsv = cv2.cvtColor(imagen_original, cv2.COLOR_BGR2HSV)\n",
    "\n",
    "# Definir el rango de color verde en HSV\n",
    "verde_bajo = np.array([40, 40, 40])\n",
    "verde_alto = np.array([80, 255, 255])\n",
    "\n",
    "# Crear una máscara para el color verde\n",
    "mascara = cv2.inRange(hsv, verde_bajo, verde_alto)\n",
    "\n",
    "# Invertir máscara para obtener la parte frontal\n",
    "mascara_invertida = cv2.bitwise_not(mascara)\n",
    "\n",
    "# Usar la máscara para extraer la región de interés de la imagen original\n",
    "frente = cv2.bitwise_and(imagen_original, imagen_original, mask=mascara_invertida)\n",
    "\n",
    "# Usar la máscara original para extraer la región de interés del nuevo fondo\n",
    "fondo = cv2.bitwise_and(nuevo_fondo, nuevo_fondo, mask=mascara)\n",
    "\n",
    "# Combinar el frente con el nuevo fondo\n",
    "imagen_final = cv2.add(frente, fondo)\n",
    "\n",
    "# Mostrar la imagen resultante\n",
    "# cv2.imshow('Imagen con nuevo fondo', imagen_final)\n",
    "# cv2.waitKey(0)\n",
    "# cv2.destroyAllWindows()\n",
    "\n",
    "# Guardar imagen \n",
    "# Verificar si la imagen se ha cargado correctamente\n",
    "if imagen_final is not None:\n",
    "    # Guardar la imagen en el disco\n",
    "    resultado = cv2.imwrite('imagen_resultnte.jpeg', imagen_final)\n",
    "    \n",
    "    if resultado:\n",
    "        print(\"Imagen guardada con éxito.\")\n",
    "    else:\n",
    "        print(\"Error al guardar la imagen.\")\n",
    "else:\n",
    "    print(\"Error al cargar la imagen.\")\n"
   ]
  },
  {
   "cell_type": "markdown",
   "metadata": {},
   "source": [
    "El proceso comienza con la carga de las imágenes necesarias: la imagen original (\"dino.png\") y la imagen del nuevo fondo (\"minas.jpeg\"), utilizando cv2.imread(). Es crucial verificar que ambas imágenes se hayan cargado correctamente; de lo contrario, el programa indicará un error y se detendrá.\n",
    "\n",
    "Posteriormente, se redimensiona el nuevo fondo para que coincida con las dimensiones de la imagen original. Esto se logra con cv2.resize(), ajustando el tamaño del fondo según las dimensiones de la imagen original, asegurando así que ambas tengan el mismo tamaño para una combinación efectiva.\n",
    "\n",
    "La imagen original se convierte del formato BGR al formato HSV utilizando cv2.cvtColor(), dado que HSV ofrece una representación más intuitiva de los colores, facilitando la manipulación de estos.\n",
    "\n",
    "Para eliminar el fondo verde de la imagen original, se definen los rangos de color verde en el espacio HSV, y luego se utiliza cv2.inRange() para crear una máscara que identifique los píxeles verdes en la imagen. Los píxeles dentro del rango se marcan en blanco (255), mientras que todos los demás se marcan en negro (0).\n",
    "\n",
    "Esta máscara se invierte para aislar los elementos de la imagen que no son verdes, preparándolos para su combinación con el nuevo fondo. La inversión de la máscara permite extraer el frente de la imagen original, excluyendo el fondo verde.\n",
    "\n",
    "Utilizando cv2.bitwise_and() junto con las máscaras adecuadas, se extrae el frente de la imagen original y se prepara el nuevo fondo. La máscara invertida se aplica a la imagen original para obtener el frente sin el fondo verde, y la máscara original al nuevo fondo para la combinación.\n",
    "\n",
    "El paso final es combinar el frente de la imagen original con el nuevo fondo mediante cv2.add(), reemplazando efectivamente el fondo verde original por el nuevo seleccionado. La imagen resultante se verifica y luego se guarda en el disco usando cv2.imwrite(), y se notifica al usuario el éxito de la operación."
   ]
  }
 ],
 "metadata": {
  "kernelspec": {
   "display_name": "Python 3",
   "language": "python",
   "name": "python3"
  },
  "language_info": {
   "codemirror_mode": {
    "name": "ipython",
    "version": 3
   },
   "file_extension": ".py",
   "mimetype": "text/x-python",
   "name": "python",
   "nbconvert_exporter": "python",
   "pygments_lexer": "ipython3",
   "version": "3.11.7"
  }
 },
 "nbformat": 4,
 "nbformat_minor": 2
}
