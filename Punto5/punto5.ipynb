{
 "cells": [
  {
   "cell_type": "markdown",
   "metadata": {},
   "source": [
    "<img src=\"https://unal.edu.co/_assets/ca8e1ca9a551c3e3ffc233b30e54ba93/images/escudoUnal.svg\" width=\"800\" height=\"500\">\n",
    "\n",
    "# LABORATORIO 1\n",
    "\n",
    "## Gustavo Arteaga \n",
    "## Universidad Nacional de Colombia - Facultad de minas \n",
    "## Tópicos Azanzados de Procesamiento Digital de Señales\n",
    "### 2024-03-14\n"
   ]
  },
  {
   "cell_type": "markdown",
   "metadata": {},
   "source": [
    "# 5. Series de Fourier"
   ]
  },
  {
   "cell_type": "markdown",
   "metadata": {},
   "source": [
    "#### Actividades:\n",
    "##### Recrear el proceso de reconstrucción mostrado en la Figura 6, para una Serie de Fourier cualquiera, distinta a la mostrada en la Ecuación (4), aplicada a la señal cuadrada. Compare los resultados al incrementar la cantidad de coeficientes que se tienen en cuenta en la reconstrucción y establezca un criterio para definir una cantidad máxima de los mismos, con lo cual se pueda considerar que la reconstrucción es razonablemente precisa.\n",
    "\n",
    "##### A manera de reto, considere la siguiente pregunta: ¿Es posible obtener la magnitud y ángulo de cada uno de los coeficientes (Ck) de la serie a partir de una herramienta como la FFT? Ilustre el proceso con un ejemplo."
   ]
  },
  {
   "cell_type": "code",
   "execution_count": null,
   "metadata": {},
   "outputs": [],
   "source": [
    "# "
   ]
  }
 ],
 "metadata": {
  "kernelspec": {
   "display_name": "Python 3",
   "language": "python",
   "name": "python3"
  },
  "language_info": {
   "codemirror_mode": {
    "name": "ipython",
    "version": 3
   },
   "file_extension": ".py",
   "mimetype": "text/x-python",
   "name": "python",
   "nbconvert_exporter": "python",
   "pygments_lexer": "ipython3",
   "version": "3.11.7"
  }
 },
 "nbformat": 4,
 "nbformat_minor": 2
}
