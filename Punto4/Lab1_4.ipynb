{
 "cells": [
  {
   "cell_type": "markdown",
   "metadata": {},
   "source": [
    "<img src=\"https://unal.edu.co/_assets/ca8e1ca9a551c3e3ffc233b30e54ba93/images/escudoUnal.svg\" width=\"800\" height=\"500\">\n",
    "\n",
    "# LABORATORIO 1\n",
    "\n",
    "## Gustavo Arteaga \n",
    "## Universidad Nacional de Colombia - Facultad de minas \n",
    "## Tópicos Azanzados de Procesamiento Digital de Señales\n",
    "### 2024-03-14\n"
   ]
  },
  {
   "cell_type": "markdown",
   "metadata": {},
   "source": [
    "# 4. Simulación de la Localización Binaural"
   ]
  },
  {
   "cell_type": "markdown",
   "metadata": {},
   "source": [
    "#### Actividades:\n",
    "\n",
    "##### Se propone justamente descargar o generar un sonido monofónico (un canal) de corta duración y procesarlo para generar una señal de dos canales (estéreo). El propósito del procesamiento debe ser el de generar una sensación de localización de dicho sonido, a partir de la manipulación de sus valores relativos de amplitud y desfase."
   ]
  },
  {
   "cell_type": "code",
   "execution_count": null,
   "metadata": {},
   "outputs": [],
   "source": []
  }
 ],
 "metadata": {
  "language_info": {
   "name": "python"
  }
 },
 "nbformat": 4,
 "nbformat_minor": 2
}
